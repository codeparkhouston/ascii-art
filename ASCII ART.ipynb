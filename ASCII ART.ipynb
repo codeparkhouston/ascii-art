{
 "cells": [
  {
   "cell_type": "markdown",
   "metadata": {},
   "source": [
    "## Images\n",
    "\n",
    "<img src='http://cdn.vogue.com.au/media/file_uploads/1/1/3/0/11377-1.jpg'>\n",
    "\n",
    "### It's all just code!"
   ]
  },
  {
   "cell_type": "markdown",
   "metadata": {},
   "source": [
    "## ASCII ART explanation"
   ]
  },
  {
   "cell_type": "markdown",
   "metadata": {},
   "source": [
    "# ASCII ART"
   ]
  },
  {
   "cell_type": "markdown",
   "metadata": {},
   "source": [
    "# First, we get a little help"
   ]
  },
  {
   "cell_type": "code",
   "execution_count": 1,
   "metadata": {
    "collapsed": false
   },
   "outputs": [
    {
     "name": "stdout",
     "output_type": "stream",
     "text": [
      "Code loaded!\n"
     ]
    },
    {
     "name": "stderr",
     "output_type": "stream",
     "text": [
      ":0: FutureWarning: IPython widgets are experimental and may change in the future.\n"
     ]
    }
   ],
   "source": [
    "%matplotlib inline\n",
    "\n",
    "import math\n",
    "\n",
    "from __future__ import division\n",
    "from IPython.display import display\n",
    "\n",
    "from imageUtils import show, set_image, resize_image, convert_image_to_grayscale, get_image_values, get_shape\n",
    "from listUtils import join_list_items, add_to_list, reshape_list\n",
    "\n",
    "print 'Code loaded!'\n"
   ]
  },
  {
   "cell_type": "markdown",
   "metadata": {},
   "source": [
    "# Grab the image from online."
   ]
  },
  {
   "cell_type": "code",
   "execution_count": 6,
   "metadata": {
    "collapsed": true
   },
   "outputs": [],
   "source": [
    "image_url = 'http://images.clipartpanda.com/turtle-clipart-pond-clip-art-turtle1.png'"
   ]
  },
  {
   "cell_type": "code",
   "execution_count": 7,
   "metadata": {
    "collapsed": false
   },
   "outputs": [
    {
     "data": {
      "image/png": "[encoded data removed]",
      "text/plain": [
       "<matplotlib.figure.Figure at 0x11091b990>"
      ]
     },
     "metadata": {},
     "output_type": "display_data"
    }
   ],
   "source": [
    "display(set_image)\n",
    "image = set_image.result\n",
    "show(image)"
   ]
  },
  {
   "cell_type": "markdown",
   "metadata": {},
   "source": [
    "# Let's look at the size of the image."
   ]
  },
  {
   "cell_type": "code",
   "execution_count": 8,
   "metadata": {
    "collapsed": false
   },
   "outputs": [
    {
     "name": "stdout",
     "output_type": "stream",
     "text": [
      "Width: 933 pixels\n",
      "Height: 555 pixels\n"
     ]
    }
   ],
   "source": [
    "(original_height, original_width) = get_shape(image)\n",
    "print 'Width:', original_width, 'pixels'\n",
    "print 'Height:', original_height, 'pixels'"
   ]
  },
  {
   "cell_type": "markdown",
   "metadata": {},
   "source": [
    "# We can use the width and height to calculate an aspect ratio."
   ]
  },
  {
   "cell_type": "code",
   "execution_count": 10,
   "metadata": {
    "collapsed": false
   },
   "outputs": [
    {
     "name": "stdout",
     "output_type": "stream",
     "text": [
      "Aspect Ratio: 1.68108108108\n"
     ]
    }
   ],
   "source": [
    "aspect_ratio = original_width/original_height\n",
    "print 'Aspect Ratio:', aspect_ratio"
   ]
  },
  {
   "cell_type": "markdown",
   "metadata": {},
   "source": [
    "# The ratio will help us resize the image."
   ]
  },
  {
   "cell_type": "code",
   "execution_count": 23,
   "metadata": {
    "collapsed": false
   },
   "outputs": [
    {
     "name": "stdout",
     "output_type": "stream",
     "text": [
      "New Width: 40 pixels\n",
      "New Height: 23 pixels\n"
     ]
    }
   ],
   "source": [
    "new_width=40\n",
    "new_height = int(new_width / aspect_ratio)\n",
    "\n",
    "print 'New Width:', new_width, 'pixels'\n",
    "print 'New Height:', new_height, 'pixels'"
   ]
  },
  {
   "cell_type": "code",
   "execution_count": 24,
   "metadata": {
    "collapsed": false
   },
   "outputs": [
    {
     "data": {
      "image/png": "[encoded data removed]",
      "text/plain": [
       "<matplotlib.figure.Figure at 0x10d99d110>"
      ]
     },
     "metadata": {},
     "output_type": "display_data"
    }
   ],
   "source": [
    "small_image = resize_image(image, (new_height, new_width))\n",
    "show(small_image)"
   ]
  },
  {
   "cell_type": "markdown",
   "metadata": {},
   "source": [
    "# Let's make the image black and white."
   ]
  },
  {
   "cell_type": "code",
   "execution_count": 25,
   "metadata": {
    "collapsed": false,
    "scrolled": true
   },
   "outputs": [
    {
     "data": {
      "image/png": "[encoded data removed]",
      "text/plain": [
       "<matplotlib.figure.Figure at 0x10b740590>"
      ]
     },
     "metadata": {},
     "output_type": "display_data"
    }
   ],
   "source": [
    "gray_image = convert_image_to_grayscale(small_image)\n",
    "show(gray_image)"
   ]
  },
  {
   "cell_type": "markdown",
   "metadata": {},
   "source": [
    "# We can see how gray each pixel is as a number.\n",
    "\n",
    "In this case, 0 is black and 255 is white."
   ]
  },
  {
   "cell_type": "code",
   "execution_count": 26,
   "metadata": {
    "collapsed": false
   },
   "outputs": [
    {
     "name": "stdout",
     "output_type": "stream",
     "text": [
      "[255, 255, 255, 255, 255, 255, 255, 255, 255, 255, 255, 255, 255, 255, 255, 255, 255, 255, 255, 255, 255, 255, 255, 255, 255, 255, 255, 255, 255, 255, 255, 255, 255, 255, 255, 255, 255, 255, 255, 255, 255, 255, 255, 255, 255, 255, 255, 255, 255, 255, 255, 255, 255, 255, 255, 255, 255, 255, 252, 92, 106, 106, 106, 106, 106, 92, 92, 92, 255, 255, 255, 255, 255, 255, 255, 255, 255, 255, 255, 255, 255, 255, 255, 255, 255, 255, 255, 255, 255, 255, 255, 255, 255, 255, 255, 255, 255, 13, 92, 58, 92, 92, 92, 92, 92, 92, 106, 106, 0, 0, 255, 255, 255, 255, 255, 255, 255, 255, 255, 255, 255, 255, 255, 255, 255, 255, 255, 255, 255, 255, 255, 255, 255, 255, 255, 255, 255, 92, 106, 106, 106, 101, 106, 92, 106, 106, 106, 106, 106, 92, 0, 255, 255, 255, 255, 255, 255, 255, 255, 255, 255, 255, 255, 0, 168, 168, 168, 232, 255, 255, 255, 255, 255, 255, 255, 255, 92, 92, 106, 106, 106, 106, 106, 92, 102, 106, 106, 106, 0, 92, 92, 0, 255, 255, 255, 255, 255, 255, 255, 255, 255, 255, 143, 168, 168, 168, 168, 168, 168, 255, 255, 255, 255, 255, 255, 255, 92, 92, 106, 106, 106, 106, 106, 92, 22, 0, 0, 92, 92, 92, 92, 92, 230, 255, 255, 255, 255, 255, 255, 255, 255, 255, 168, 22, 77, 168, 168, 168, 168, 168, 255, 255, 255, 255, 255, 251, 92, 92, 92, 92, 92, 92, 92, 92, 92, 92, 92, 92, 92, 92, 106, 106, 92, 255, 255, 255, 255, 255, 255, 255, 255, 168, 168, 0, 168, 168, 168, 168, 168, 168, 255, 255, 255, 255, 255, 92, 106, 106, 50, 92, 92, 92, 92, 92, 92, 92, 92, 92, 81, 106, 106, 106, 0, 4, 255, 255, 255, 255, 255, 255, 16, 168, 168, 168, 168, 168, 168, 168, 168, 168, 99, 255, 255, 255, 255, 2, 106, 106, 106, 92, 106, 106, 106, 106, 106, 106, 92, 92, 106, 106, 106, 106, 106, 92, 255, 255, 255, 255, 255, 255, 168, 168, 168, 168, 168, 168, 168, 168, 168, 168, 168, 255, 255, 255, 85, 106, 106, 106, 106, 92, 106, 106, 106, 106, 106, 106, 56, 92, 106, 106, 106, 106, 92, 92, 255, 255, 255, 255, 255, 255, 168, 168, 168, 168, 168, 168, 168, 168, 168, 168, 168, 255, 255, 255, 92, 92, 0, 106, 92, 92, 106, 106, 106, 106, 106, 106, 0, 92, 92, 106, 92, 92, 92, 92, 7, 255, 255, 255, 0, 255, 255, 168, 31, 168, 168, 168, 168, 168, 168, 168, 168, 255, 255, 92, 92, 92, 92, 92, 92, 92, 0, 106, 0, 0, 0, 92, 92, 92, 92, 92, 92, 92, 92, 92, 19, 255, 255, 207, 168, 255, 255, 0, 168, 168, 168, 168, 168, 168, 168, 168, 168, 255, 252, 92, 106, 106, 106, 0, 92, 92, 0, 0, 0, 0, 80, 92, 92, 0, 106, 106, 106, 84, 92, 106, 106, 0, 0, 168, 0, 255, 255, 255, 255, 168, 168, 168, 168, 168, 168, 168, 168, 0, 92, 106, 106, 106, 106, 106, 0, 92, 106, 106, 106, 106, 106, 106, 92, 0, 106, 106, 106, 106, 92, 106, 106, 106, 0, 168, 255, 255, 255, 255, 255, 255, 255, 255, 0, 168, 168, 168, 168, 41, 92, 92, 0, 64, 64, 106, 92, 92, 106, 106, 106, 106, 106, 106, 92, 0, 106, 106, 106, 0, 92, 106, 106, 64, 92, 255, 255, 255, 255, 255, 255, 255, 255, 255, 255, 255, 168, 168, 168, 168, 0, 92, 92, 92, 92, 92, 92, 92, 92, 92, 92, 92, 92, 92, 92, 92, 92, 92, 92, 92, 92, 0, 195, 195, 255, 255, 255, 255, 255, 255, 255, 255, 255, 255, 255, 255, 255, 168, 168, 44, 168, 168, 0, 195, 195, 195, 195, 195, 195, 195, 195, 195, 195, 195, 195, 195, 195, 195, 195, 195, 195, 195, 168, 168, 255, 255, 255, 255, 255, 255, 255, 255, 255, 255, 255, 255, 255, 255, 36, 168, 168, 168, 168, 168, 168, 168, 0, 42, 195, 195, 195, 195, 195, 195, 195, 195, 195, 195, 0, 0, 168, 168, 168, 168, 168, 255, 255, 255, 255, 255, 255, 255, 255, 255, 255, 255, 255, 255, 168, 168, 168, 168, 168, 168, 168, 160, 255, 255, 255, 255, 255, 255, 255, 255, 255, 255, 255, 255, 22, 168, 168, 168, 168, 168, 168, 65, 255, 255, 255, 255, 255, 255, 255, 255, 255, 255, 255, 14, 0, 168, 168, 168, 168, 168, 168, 255, 255, 255, 255, 255, 255, 255, 255, 255, 255, 255, 255, 255, 168, 166, 168, 168, 168, 168, 168, 168, 255, 255, 255, 255, 255, 255, 255, 255, 255, 255, 255, 255, 168, 168, 168, 168, 168, 168, 168, 255, 255, 255, 255, 255, 255, 255, 255, 255, 255, 255, 255, 17, 168, 168, 168, 168, 168, 168, 168, 168, 255, 255, 255, 255, 255, 255, 255, 255, 255, 255, 255, 255, 255, 168, 168, 168, 168, 168, 107, 255, 255, 255, 255, 255, 255, 255, 255, 255, 255, 255, 255, 255, 168, 168, 168, 168, 168, 168, 168, 255, 255, 255, 255, 255, 255, 255, 255, 255, 255, 255, 255, 255, 255, 255, 255, 255, 255, 255, 255, 255, 255, 255, 255, 255, 255, 255, 255, 255, 255, 255, 255, 255, 255, 255, 136, 95, 0, 255, 255, 255, 255, 255]\n"
     ]
    }
   ],
   "source": [
    "pixels_in_image = get_image_values(gray_image)\n",
    "print pixels_in_image"
   ]
  },
  {
   "cell_type": "markdown",
   "metadata": {},
   "source": [
    "# Here are some characters we want to map the gray values to."
   ]
  },
  {
   "cell_type": "code",
   "execution_count": 27,
   "metadata": {
    "collapsed": true
   },
   "outputs": [],
   "source": [
    "ASCII_A = [ '..', '%%', '@@', '??', 'SS', '++', '..', '**', '::', ',,', '..']\n",
    "ASCII_B = [ '##', '??', '%%', '..', 'SS', '++', '..', '**', '::', ',,', '@@']\n",
    "ASCII_C = [ '##', '??', '%%', '..', 'SS', '++', '..', '**', '::', ',,', '..']\n",
    "ASCII_D = [\"$$\",\"@@\",\"BB\",\"%%\",\"88\",\"&&\",\"WW\",\"MM\",\"##\",\"**\",\"oo\",\"aa\",\"hh\",\"kk\",\"bb\",\"dd\",\"pp\",\"qq\",\"ww\",\"mm\",\"ZZ\",\"OO\",\"00\",\"QQ\",\"LL\",\"CC\",\"JJ\",\"UU\",\"YY\",\"XX\",\"zz\",\"cc\",\"vv\",\"uu\",\"nn\",\"xx\",\"rr\",\"jj\",\"ff\",\"tt\",\"//\",\"\\\\\",\"||\",\"((\",\"))\",\"11\",\"{{\",\"}}\",\"[[\",\"]]\",\"??\",\"--\",\"__\",\"++\",\"~~\",\"<<\",\">>\",\"ii\",\"!!\",\"ll\",\"II\",\";;\",\"::\",\",,\",'\"\"',\"^^\",\"``\",\"''\",\"..\",\"  \"]"
   ]
  },
  {
   "cell_type": "markdown",
   "metadata": {},
   "source": [
    "# Pick one to be the one you use."
   ]
  },
  {
   "cell_type": "code",
   "execution_count": 46,
   "metadata": {
    "collapsed": true
   },
   "outputs": [],
   "source": [
    "ASCII_CHARS = ASCII_D"
   ]
  },
  {
   "cell_type": "code",
   "execution_count": 47,
   "metadata": {
    "collapsed": false,
    "scrolled": true
   },
   "outputs": [
    {
     "name": "stdout",
     "output_type": "stream",
     "text": [
      "Range Width: 3.71014492754\n"
     ]
    }
   ],
   "source": [
    "range_width = 256/(len(ASCII_CHARS)-1)\n",
    "print 'Range Width:', range_width"
   ]
  },
  {
   "cell_type": "markdown",
   "metadata": {},
   "source": [
    "# Then, we can calculate the index based on the pixel value"
   ]
  },
  {
   "cell_type": "code",
   "execution_count": 48,
   "metadata": {
    "collapsed": false,
    "scrolled": true
   },
   "outputs": [
    {
     "name": "stdout",
     "output_type": "stream",
     "text": [
      "['..', '..', '..', '..', '..', '..', '..', '..', '..', '..', '..', '..', '..', '..', '..', '..', '..', '..', '..', '..', '..', '..', '..', '..', '..', '..', '..', '..', '..', '..', '..', '..', '..', '..', '..', '..', '..', '..', '..', '..', '..', '..', '..', '..', '..', '..', '..', '..', '..', '..', '..', '..', '..', '..', '..', '..', '..', '..', \"''\", 'LL', 'YY', 'YY', 'YY', 'YY', 'YY', 'LL', 'LL', 'LL', '..', '..', '..', '..', '..', '..', '..', '..', '..', '..', '..', '..', '..', '..', '..', '..', '..', '..', '..', '..', '..', '..', '..', '..', '..', '..', '..', '..', '..', '%%', 'LL', 'dd', 'LL', 'LL', 'LL', 'LL', 'LL', 'LL', 'YY', 'YY', '$$', '$$', '..', '..', '..', '..', '..', '..', '..', '..', '..', '..', '..', '..', '..', '..', '..', '..', '..', '..', '..', '..', '..', '..', '..', '..', '..', '..', '..', 'LL', 'YY', 'YY', 'YY', 'UU', 'YY', 'LL', 'YY', 'YY', 'YY', 'YY', 'YY', 'LL', '$$', '..', '..', '..', '..', '..', '..', '..', '..', '..', '..', '..', '..', '$$', '11', '11', '11', '::', '..', '..', '..', '..', '..', '..', '..', '..', 'LL', 'LL', 'YY', 'YY', 'YY', 'YY', 'YY', 'LL', 'UU', 'YY', 'YY', 'YY', '$$', 'LL', 'LL', '$$', '..', '..', '..', '..', '..', '..', '..', '..', '..', '..', 'ff', '11', '11', '11', '11', '11', '11', '..', '..', '..', '..', '..', '..', '..', 'LL', 'LL', 'YY', 'YY', 'YY', 'YY', 'YY', 'LL', '&&', '$$', '$$', 'LL', 'LL', 'LL', 'LL', 'LL', ';;', '..', '..', '..', '..', '..', '..', '..', '..', '..', '11', '&&', 'ZZ', '11', '11', '11', '11', '11', '..', '..', '..', '..', '..', \"''\", 'LL', 'LL', 'LL', 'LL', 'LL', 'LL', 'LL', 'LL', 'LL', 'LL', 'LL', 'LL', 'LL', 'LL', 'YY', 'YY', 'LL', '..', '..', '..', '..', '..', '..', '..', '..', '11', '11', '$$', '11', '11', '11', '11', '11', '11', '..', '..', '..', '..', '..', 'LL', 'YY', 'YY', 'kk', 'LL', 'LL', 'LL', 'LL', 'LL', 'LL', 'LL', 'LL', 'LL', 'OO', 'YY', 'YY', 'YY', '$$', '@@', '..', '..', '..', '..', '..', '..', '88', '11', '11', '11', '11', '11', '11', '11', '11', '11', 'JJ', '..', '..', '..', '..', '$$', 'YY', 'YY', 'YY', 'LL', 'YY', 'YY', 'YY', 'YY', 'YY', 'YY', 'LL', 'LL', 'YY', 'YY', 'YY', 'YY', 'YY', 'LL', '..', '..', '..', '..', '..', '..', '11', '11', '11', '11', '11', '11', '11', '11', '11', '11', '11', '..', '..', '..', '00', 'YY', 'YY', 'YY', 'YY', 'LL', 'YY', 'YY', 'YY', 'YY', 'YY', 'YY', 'dd', 'LL', 'YY', 'YY', 'YY', 'YY', 'LL', 'LL', '..', '..', '..', '..', '..', '..', '11', '11', '11', '11', '11', '11', '11', '11', '11', '11', '11', '..', '..', '..', 'LL', 'LL', '$$', 'YY', 'LL', 'LL', 'YY', 'YY', 'YY', 'YY', 'YY', 'YY', '$$', 'LL', 'LL', 'YY', 'LL', 'LL', 'LL', 'LL', '@@', '..', '..', '..', '$$', '..', '..', '11', '##', '11', '11', '11', '11', '11', '11', '11', '11', '..', '..', 'LL', 'LL', 'LL', 'LL', 'LL', 'LL', 'LL', '$$', 'YY', '$$', '$$', '$$', 'LL', 'LL', 'LL', 'LL', 'LL', 'LL', 'LL', 'LL', 'LL', '&&', '..', '..', '<<', '11', '..', '..', '$$', '11', '11', '11', '11', '11', '11', '11', '11', '11', '..', \"''\", 'LL', 'YY', 'YY', 'YY', '$$', 'LL', 'LL', '$$', '$$', '$$', '$$', 'OO', 'LL', 'LL', '$$', 'YY', 'YY', 'YY', '00', 'LL', 'YY', 'YY', '$$', '$$', '11', '$$', '..', '..', '..', '..', '11', '11', '11', '11', '11', '11', '11', '11', '$$', 'LL', 'YY', 'YY', 'YY', 'YY', 'YY', '$$', 'LL', 'YY', 'YY', 'YY', 'YY', 'YY', 'YY', 'LL', '$$', 'YY', 'YY', 'YY', 'YY', 'LL', 'YY', 'YY', 'YY', '$$', '11', '..', '..', '..', '..', '..', '..', '..', '..', '$$', '11', '11', '11', '11', 'aa', 'LL', 'LL', '$$', 'qq', 'qq', 'YY', 'LL', 'LL', 'YY', 'YY', 'YY', 'YY', 'YY', 'YY', 'LL', '$$', 'YY', 'YY', 'YY', '$$', 'LL', 'YY', 'YY', 'qq', 'LL', '..', '..', '..', '..', '..', '..', '..', '..', '..', '..', '..', '11', '11', '11', '11', '$$', 'LL', 'LL', 'LL', 'LL', 'LL', 'LL', 'LL', 'LL', 'LL', 'LL', 'LL', 'LL', 'LL', 'LL', 'LL', 'LL', 'LL', 'LL', 'LL', 'LL', '$$', '__', '__', '..', '..', '..', '..', '..', '..', '..', '..', '..', '..', '..', '..', '..', '11', '11', 'aa', '11', '11', '$$', '__', '__', '__', '__', '__', '__', '__', '__', '__', '__', '__', '__', '__', '__', '__', '__', '__', '__', '__', '11', '11', '..', '..', '..', '..', '..', '..', '..', '..', '..', '..', '..', '..', '..', '..', '**', '11', '11', '11', '11', '11', '11', '11', '$$', 'aa', '__', '__', '__', '__', '__', '__', '__', '__', '__', '__', '$$', '$$', '11', '11', '11', '11', '11', '..', '..', '..', '..', '..', '..', '..', '..', '..', '..', '..', '..', '..', '11', '11', '11', '11', '11', '11', '11', '((', '..', '..', '..', '..', '..', '..', '..', '..', '..', '..', '..', '..', '&&', '11', '11', '11', '11', '11', '11', 'qq', '..', '..', '..', '..', '..', '..', '..', '..', '..', '..', '..', '%%', '$$', '11', '11', '11', '11', '11', '11', '..', '..', '..', '..', '..', '..', '..', '..', '..', '..', '..', '..', '..', '11', '))', '11', '11', '11', '11', '11', '11', '..', '..', '..', '..', '..', '..', '..', '..', '..', '..', '..', '..', '11', '11', '11', '11', '11', '11', '11', '..', '..', '..', '..', '..', '..', '..', '..', '..', '..', '..', '..', '88', '11', '11', '11', '11', '11', '11', '11', '11', '..', '..', '..', '..', '..', '..', '..', '..', '..', '..', '..', '..', '..', '11', '11', '11', '11', '11', 'YY', '..', '..', '..', '..', '..', '..', '..', '..', '..', '..', '..', '..', '..', '11', '11', '11', '11', '11', '11', '11', '..', '..', '..', '..', '..', '..', '..', '..', '..', '..', '..', '..', '..', '..', '..', '..', '..', '..', '..', '..', '..', '..', '..', '..', '..', '..', '..', '..', '..', '..', '..', '..', '..', '..', '..', 'rr', 'CC', '$$', '..', '..', '..', '..', '..']\n"
     ]
    }
   ],
   "source": [
    "pixels_to_chars = []\n",
    "for pixel_value in pixels_in_image:\n",
    "    ascii_char_index = int(pixel_value/range_width)\n",
    "    ascii_char_for_pixel = ASCII_CHARS[ascii_char_index]\n",
    "\n",
    "    add_to_list(pixels_to_chars, ascii_char_for_pixel)\n",
    "\n",
    "print pixels_to_chars"
   ]
  },
  {
   "cell_type": "markdown",
   "metadata": {},
   "source": [
    "Right now, we are pretty close.  We need to reshape this one big list of ASCII chars into a rectangle with the expected pixel width and height.\n",
    "\n",
    "# First, let's make the list of ASCII characters into one big string."
   ]
  },
  {
   "cell_type": "code",
   "execution_count": 49,
   "metadata": {
    "collapsed": false
   },
   "outputs": [
    {
     "name": "stdout",
     "output_type": "stream",
     "text": [
      "ASCII string length: 1840\n"
     ]
    }
   ],
   "source": [
    "pixels_to_chars_string = join_list_items(pixels_to_chars)\n",
    "len_pixels_to_chars = len(pixels_to_chars_string)\n",
    "print 'ASCII string length:', len_pixels_to_chars"
   ]
  },
  {
   "cell_type": "markdown",
   "metadata": {},
   "source": [
    "# Then, we can put the string into a list of lists and combine the rows with line breaks."
   ]
  },
  {
   "cell_type": "code",
   "execution_count": 50,
   "metadata": {
    "collapsed": false
   },
   "outputs": [
    {
     "name": "stdout",
     "output_type": "stream",
     "text": [
      "................................................................................\n",
      "....................................''LLYYYYYYYYYYLLLLLL........................\n",
      "..................................%%LLddLLLLLLLLLLLLYYYY$$$$....................\n",
      "..................................LLYYYYYYUUYYLLYYYYYYYYYYLL$$..................\n",
      "......$$111111::................LLLLYYYYYYYYYYLLUUYYYYYY$$LLLL$$................\n",
      "....ff111111111111..............LLLLYYYYYYYYYYLL&&$$$$LLLLLLLLLL;;..............\n",
      "....11&&ZZ1111111111..........''LLLLLLLLLLLLLLLLLLLLLLLLLLLLYYYYLL..............\n",
      "..1111$$111111111111..........LLYYYYkkLLLLLLLLLLLLLLLLLLOOYYYYYY$$@@............\n",
      "88111111111111111111JJ........$$YYYYYYLLYYYYYYYYYYYYLLLLYYYYYYYYYYLL............\n",
      "1111111111111111111111......00YYYYYYYYLLYYYYYYYYYYYYddLLYYYYYYYYLLLL............\n",
      "1111111111111111111111......LLLL$$YYLLLLYYYYYYYYYYYY$$LLLLYYLLLLLLLL@@......$$..\n",
      "..11##1111111111111111....LLLLLLLLLLLLLL$$YY$$$$$$LLLLLLLLLLLLLLLLLL&&....<<11..\n",
      "..$$111111111111111111..''LLYYYYYY$$LLLL$$$$$$$$OOLLLL$$YYYYYY00LLYYYY$$$$11$$..\n",
      "......1111111111111111$$LLYYYYYYYYYY$$LLYYYYYYYYYYYYLL$$YYYYYYYYLLYYYYYY$$11....\n",
      "............$$11111111aaLLLL$$qqqqYYLLLLYYYYYYYYYYYYLL$$YYYYYY$$LLYYYYqqLL......\n",
      "................11111111$$LLLLLLLLLLLLLLLLLLLLLLLLLLLLLLLLLLLLLLLL$$____........\n",
      "..................1111aa1111$$______________________________________1111........\n",
      "....................**11111111111111$$aa____________________$$$$1111111111......\n",
      "....................11111111111111((........................&&111111111111qq....\n",
      "..................%%$$111111111111..........................11))111111111111....\n",
      "....................11111111111111........................881111111111111111....\n",
      "......................1111111111YY..........................11111111111111......\n",
      "................................................................rrCC$$..........\n"
     ]
    }
   ],
   "source": [
    "ascii_width = new_width * len(ASCII_CHARS[0])\n",
    "image_ascii = []\n",
    "\n",
    "for index in xrange(0, len_pixels_to_chars, ascii_width):\n",
    "    ascii_chars_row_at_index = pixels_to_chars_string[index: index + ascii_width]\n",
    "    add_to_list(image_ascii, ascii_chars_row_at_index)\n",
    "\n",
    "# ascii_art = join_list_items(image_ascii, \"\\n\")\n",
    "ascii_art = reshape_list(pixels_to_chars, ascii_width)\n",
    "print ascii_art"
   ]
  },
  {
   "cell_type": "code",
   "execution_count": null,
   "metadata": {
    "collapsed": true
   },
   "outputs": [],
   "source": []
  }
 ],
 "metadata": {
  "kernelspec": {
   "display_name": "Python 2",
   "language": "python",
   "name": "python2"
  },
  "language_info": {
   "codemirror_mode": {
    "name": "ipython",
    "version": 2
   },
   "file_extension": ".py",
   "mimetype": "text/x-python",
   "name": "python",
   "nbconvert_exporter": "python",
   "pygments_lexer": "ipython2",
   "version": "2.7.10"
  }
 },
 "nbformat": 4,
 "nbformat_minor": 0
}
