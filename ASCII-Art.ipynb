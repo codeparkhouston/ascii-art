{
 "cells": [
  {
   "cell_type": "markdown",
   "metadata": {},
   "source": [
    "# Images\n",
    "\n",
    "![trees](http://cdn.vogue.com.au/media/file_uploads/1/1/3/0/11377-1.jpg)\n",
    "\n",
    "## How does a computer \"see\" an image?\n",
    "\n",
    "### It's all just code!\n",
    "\n",
    "# What is ASCII Art?"
   ]
  },
  {
   "cell_type": "raw",
   "metadata": {},
   "source": [
    "                      ..                                    \n",
    "                      kk                                    \n",
    "                      kk                                    \n",
    "                    ookk                                    \n",
    "                    kkkk                                    \n",
    "                    kkkkhhkkkkkkhhvv                        \n",
    "            ddkkkkkkkkkkkkkkkkkkkkkkkkkk                    \n",
    "                    kkkkkk    $$kkkkkkkkkk                  \n",
    "                    kkkkkk        &&kkkkkk                  \n",
    "                    kkkkkk          kkkkkk                  \n",
    "                    kkkkkk        ]]kkkk__                  \n",
    "                    kkkkkk        kkkkaa                    \n",
    "                    kkkkkk    ''kkkk                        \n",
    "                    kkkkkkkkkkkkkkkkkk                      \n",
    "                    kkkkkk      aakkkkkk                    \n",
    "                    kkkkkk        kkkkkk                    \n",
    "                    kkkkkk        kkkkkk                    \n",
    "                    kkkkkk        kkkkkk                    \n",
    "          ||pphhhh@@kkkkkk        kkkkkk%%hhhhkkrr          \n",
    "  hhkkkkYY          kkkkkk        kkkkkk          $$kkkkbb  \n",
    "kkkkkk              kkkkkk        kkkkkk              kkkkkk\n",
    "@@kkkkkkoo          kkkkkk        kkkkkk          aakkkkkk  \n",
    "    $$kkkkkkkkkkkkhhkkkkkk\\\"\\\"..''\\\"\\\"kkkkkkhhkkkkkkkkkkkkxx\n",
    "          ..mm%%kkkkkkkkkkkkkkkkkkkkkkkkkkhh@@>>            \n",
    "                    kkkkkk        kkkkkk                    \n",
    "                    kkkkkk        kkkkkk                    \n",
    "                    mmkkaa        kkkkkk                    \n",
    "                    !!hhaa        kkkkkk                    \n",
    "                      ookk        kkkkkk                    \n",
    "                      ffCC        kkkkkk                    \n",
    "                        ||        ookkkk                    \n",
    "                        ;;        mmkkkk                    \n",
    "                                  11hhbb                    \n",
    "                                  ''**bb                    \n",
    "                                    kkhh                    \n",
    "                                    ccoo                    \n",
    "                                    ~~&&                    "
   ]
  },
  {
   "cell_type": "markdown",
   "metadata": {},
   "source": [
    "# First, we get a little help."
   ]
  },
  {
   "cell_type": "code",
   "execution_count": null,
   "metadata": {},
   "outputs": [],
   "source": [
    "from tools.image import show, get_image_from_url, resize_image, convert_image_to_grayscale, get_image_values, get_size\n",
    "from tools.list import join_list_items, add_to_list, reshape_list\n",
    "from tools.ascii import get_ascii_for_pixel_value, interactive_ascii\n",
    "import tools.ascii as ascii_tools\n",
    "\n",
    "print('Code loaded!')"
   ]
  },
  {
   "cell_type": "markdown",
   "metadata": {},
   "source": [
    "# Grab the image from online"
   ]
  },
  {
   "cell_type": "code",
   "execution_count": null,
   "metadata": {},
   "outputs": [],
   "source": [
    "image_url = 'http://png.clipart.me/previews/a03/puppy-vector-8-39942.jpg'"
   ]
  },
  {
   "cell_type": "code",
   "execution_count": null,
   "metadata": {},
   "outputs": [],
   "source": [
    "image = get_image_from_url(image_url)\n",
    "show(image)"
   ]
  },
  {
   "cell_type": "markdown",
   "metadata": {},
   "source": [
    "# Let's look at the size of the image."
   ]
  },
  {
   "cell_type": "code",
   "execution_count": null,
   "metadata": {},
   "outputs": [],
   "source": [
    "(original_height, original_width) = get_size(image)\n",
    "print('Width:', original_width, 'pixels')\n",
    "print('Height:', original_height, 'pixels')"
   ]
  },
  {
   "cell_type": "markdown",
   "metadata": {},
   "source": [
    "# We can use the width and height to calculate an aspect ratio."
   ]
  },
  {
   "cell_type": "code",
   "execution_count": null,
   "metadata": {},
   "outputs": [],
   "source": [
    "aspect_ratio = original_width/original_height\n",
    "print('Aspect Ratio:', aspect_ratio)"
   ]
  },
  {
   "cell_type": "markdown",
   "metadata": {},
   "source": [
    "# The ratio will help us resize the image."
   ]
  },
  {
   "cell_type": "code",
   "execution_count": null,
   "metadata": {},
   "outputs": [],
   "source": [
    "new_width = 40\n",
    "new_height = int(new_width / aspect_ratio)\n",
    "\n",
    "print('New Width:', new_width, 'pixels')\n",
    "print('New Height:', new_height, 'pixels')"
   ]
  },
  {
   "cell_type": "code",
   "execution_count": null,
   "metadata": {},
   "outputs": [],
   "source": [
    "small_image = resize_image(image, new_width, new_height)\n",
    "show(small_image)"
   ]
  },
  {
   "cell_type": "markdown",
   "metadata": {},
   "source": [
    "# Let's compare with the original."
   ]
  },
  {
   "cell_type": "code",
   "execution_count": null,
   "metadata": {},
   "outputs": [],
   "source": [
    "show(image, small_image)"
   ]
  },
  {
   "cell_type": "markdown",
   "metadata": {},
   "source": [
    "# We need to make the image black and white."
   ]
  },
  {
   "cell_type": "code",
   "execution_count": null,
   "metadata": {},
   "outputs": [],
   "source": [
    "gray_image = convert_image_to_grayscale(small_image)\n",
    "show(gray_image)"
   ]
  },
  {
   "cell_type": "markdown",
   "metadata": {},
   "source": [
    "# We can see how gray each pixel is as a number.\n",
    "\n",
    "In this case, 0 is black and 255 is white."
   ]
  },
  {
   "cell_type": "code",
   "execution_count": null,
   "metadata": {},
   "outputs": [],
   "source": [
    "pixels_in_image = get_image_values(gray_image)\n",
    "print(pixels_in_image)"
   ]
  },
  {
   "cell_type": "markdown",
   "metadata": {},
   "source": [
    "# Here are some characters we want to map the gray values to."
   ]
  },
  {
   "cell_type": "code",
   "execution_count": null,
   "metadata": {},
   "outputs": [],
   "source": [
    "ASCII_A = [ '..', '%%', '@@', '??', 'SS', '++', '..', '**', '::', ',,', '..']\n",
    "ASCII_B = [ '##', '??', '%%', '..', 'SS', '++', '..', '**', '::', '..', '  ']\n",
    "ASCII_C = [ '##', '??', '%%', '..', 'SS', '++', '..', '**', '::', ',,', '..']\n",
    "ASCII_D = [\"$$\",\"@@\",\"BB\",\"%%\",\"88\",\"&&\",\"WW\",\"MM\",\"##\",\"**\",\"oo\",\"aa\",\"hh\",\"kk\",\"bb\",\"dd\",\"pp\",\"qq\",\"ww\",\"mm\",\"ZZ\",\"OO\",\"00\",\"QQ\",\"LL\",\"CC\",\"JJ\",\"UU\",\"YY\",\"XX\",\"zz\",\"cc\",\"vv\",\"uu\",\"nn\",\"xx\",\"rr\",\"jj\",\"ff\",\"tt\",\"//\",\"\\\\\",\"||\",\"((\",\"))\",\"11\",\"{{\",\"}}\",\"[[\",\"]]\",\"??\",\"--\",\"__\",\"++\",\"~~\",\"<<\",\">>\",\"ii\",\"!!\",\"ll\",\"II\",\";;\",\"::\",\",,\",'\"\"',\"^^\",\"``\",\"''\",\"..\",\"  \"]\n",
    "ASCII_E = [ '##', 'vv', 'tt', \"{{\", '??', '++', '::', '~~', '**', '..', '  ']"
   ]
  },
  {
   "cell_type": "markdown",
   "metadata": {},
   "source": [
    "# Pick one to be the one you use."
   ]
  },
  {
   "cell_type": "code",
   "execution_count": null,
   "metadata": {},
   "outputs": [],
   "source": [
    "ASCII_CHARS = ASCII_C"
   ]
  },
  {
   "cell_type": "markdown",
   "metadata": {},
   "source": [
    "# Then, we can calculate the index based on the pixel value"
   ]
  },
  {
   "cell_type": "code",
   "execution_count": null,
   "metadata": {},
   "outputs": [],
   "source": [
    "pixels_to_chars = []\n",
    "for pixel_value in pixels_in_image:\n",
    "    ascii_char_for_pixel = get_ascii_for_pixel_value(pixel_value, ASCII_CHARS)\n",
    "    add_to_list(pixels_to_chars, ascii_char_for_pixel)\n",
    "\n",
    "print(pixels_to_chars)"
   ]
  },
  {
   "cell_type": "markdown",
   "metadata": {},
   "source": [
    "Right now, we are pretty close.\n",
    "\n",
    "# We need to reshape this one big list into a rectangle with the expected pixel width and height."
   ]
  },
  {
   "cell_type": "code",
   "execution_count": null,
   "metadata": {},
   "outputs": [],
   "source": [
    "ascii_width = new_width * len(ASCII_CHARS[0])\n",
    "ascii_art = reshape_list(pixels_to_chars, ascii_width)\n",
    "print(ascii_art)"
   ]
  },
  {
   "cell_type": "markdown",
   "metadata": {},
   "source": [
    "# Let's experiment!"
   ]
  },
  {
   "cell_type": "code",
   "execution_count": null,
   "metadata": {},
   "outputs": [],
   "source": [
    "interactive_ascii()"
   ]
  },
  {
   "cell_type": "markdown",
   "metadata": {},
   "source": [
    "# Save your art!"
   ]
  },
  {
   "cell_type": "code",
   "execution_count": null,
   "metadata": {},
   "outputs": [],
   "source": [
    "ascii_tools.save_to_files('results/puppy')"
   ]
  }
 ],
 "metadata": {
  "kernelspec": {
   "display_name": "Python 3",
   "language": "python",
   "name": "python3"
  },
  "language_info": {
   "codemirror_mode": {
    "name": "ipython",
    "version": 3
   },
   "file_extension": ".py",
   "mimetype": "text/x-python",
   "name": "python",
   "nbconvert_exporter": "python",
   "pygments_lexer": "ipython3",
   "version": "3.6.5"
  }
 },
 "nbformat": 4,
 "nbformat_minor": 2
}
